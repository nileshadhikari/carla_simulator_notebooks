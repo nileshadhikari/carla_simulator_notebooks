{
 "cells": [
  {
   "cell_type": "code",
   "execution_count": 1,
   "id": "b0098432-b503-4a40-a2f7-cb7e09d47808",
   "metadata": {},
   "outputs": [
    {
     "name": "stdout",
     "output_type": "stream",
     "text": [
      "pygame 2.6.1 (SDL 2.28.4, Python 3.8.8)\n",
      "Hello from the pygame community. https://www.pygame.org/contribute.html\n"
     ]
    }
   ],
   "source": [
    "import carla\n",
    "import random\n",
    "import pygame \n",
    "\n",
    "# We will be using this for manual control\n",
    "\n",
    "# server running on our system with default port 2000\n",
    "\n",
    "client = carla.Client('localhost',2000)\n",
    "client.set_timeout(20)"
   ]
  },
  {
   "cell_type": "code",
   "execution_count": 2,
   "id": "ce3190c4-ab36-49df-81fa-c7872cb3adf2",
   "metadata": {},
   "outputs": [],
   "source": [
    "#world = client.load_world('Town05')\n",
    "world = client.get_world()\n",
    "weather = carla.WeatherParameters(\n",
    "    cloudiness=0.0,\n",
    "    precipitation=0.0,\n",
    "    sun_altitude_angle=10.0,\n",
    "    sun_azimuth_angle = 90.0,\n",
    "    precipitation_deposits = 0.0,\n",
    "    wind_intensity = 0.0,\n",
    "    fog_density = 0.0,\n",
    "    wetness = 0.0, \n",
    ")\n",
    "world.set_weather(weather)\n"
   ]
  },
  {
   "cell_type": "code",
   "execution_count": 3,
   "id": "d92c822b-09e5-46f1-8868-0b89a661507e",
   "metadata": {},
   "outputs": [],
   "source": [
    "bp_lib = world.get_blueprint_library() \n",
    "spawn_points = world.get_map().get_spawn_points()\n",
    "\n",
    "\n",
    "# I am spawning an Audi etron here. You can check out the blueprint library\n",
    "# to spawn your vehicle of choice. Also we spawn in a random safe point 79\n",
    "\n",
    "vehicle_bp = bp_lib.find('vehicle.audi.etron')\n",
    "ego_vehicle = world.try_spawn_actor(vehicle_bp, spawn_points[79]) \n",
    "\n",
    "# Let's position the spectator just behind the vehicle\n",
    "# Carla.Transform has two parameters - Location and Rotation. We use this to\n",
    "# to position the spectator by going 4 metres behind and 2.5 metres above the \n",
    "# ego_vehicle\n",
    "\n",
    "spectator = world.get_spectator()\n",
    "transform = carla.Transform(ego_vehicle.get_transform().transform(carla.Location(x=-4,z=2.5)),ego_vehicle.get_transform().rotation)\n",
    "spectator.set_transform(transform)\n",
    "\n",
    "# If you want to position the your_actor with just the coordinates, \n",
    "# you can use the below codes.\n",
    "# location = carla.Location(x=0, y=0, z=30)\n",
    "# rotation = carla.Rotation(roll=0, pitch=-30, yaw=180)\n",
    "# transform = carla.Transform(location, rotation)\n",
    "# your_actor.set_transform(transform)"
   ]
  },
  {
   "cell_type": "code",
   "execution_count": null,
   "id": "c78c00ff-38e0-42aa-b6e9-40a80865866a",
   "metadata": {},
   "outputs": [],
   "source": [
    "for i in range(200):  \n",
    "    vehicle_bp = random.choice(bp_lib.filter('vehicle')) \n",
    "    npc = world.try_spawn_actor(vehicle_bp, random.choice(spawn_points))\n",
    "\n",
    "\n",
    "#Set traffic in motion\n",
    "for v in world.get_actors().filter('*vehicle*'): \n",
    "    v.set_autopilot(True) # This makes all the vehicles function in autopilot\n",
    "ego_vehicle.set_autopilot(False) # Allows you to drive the ego_vehicle manually"
   ]
  },
  {
   "cell_type": "code",
   "execution_count": 4,
   "id": "1aa96d76-fc70-4b22-88b7-1da95bc4bc03",
   "metadata": {},
   "outputs": [],
   "source": [
    "pygame.init() #initialising\n",
    "\n",
    "# Set up the Pygame display\n",
    "size = (640, 480)\n",
    "pygame.display.set_caption(\"CARLA Manual Control\")\n",
    "screen = pygame.display.set_mode(size)\n",
    "\n",
    "# Set up the control object and loop until the user exits the script\n",
    "control = carla.VehicleControl()\n",
    "clock = pygame.time.Clock()\n",
    "done = False\n",
    "\n",
    "while not done:\n",
    "    # Get keyboard input and handle it\n",
    "    keys = pygame.key.get_pressed() \n",
    "    \n",
    "    # The values are directly from the manual control code which we ran in the\n",
    "    # last post. Just implemented just the throttle, brake and steer\n",
    "    # You can add reverse and gear shifting features directly from that code\n",
    "\n",
    "    if keys[pygame.K_UP] or keys[pygame.K_w]:\n",
    "        control.throttle = min(control.throttle + 0.05, 1.0)\n",
    "    else:\n",
    "        control.throttle = 0.0\n",
    "\n",
    "    if keys[pygame.K_DOWN] or keys[pygame.K_s]:\n",
    "        control.brake = min(control.brake + 0.2, 1.0)\n",
    "    else:\n",
    "        control.brake = 0.0\n",
    "\n",
    "    if keys[pygame.K_LEFT] or keys[pygame.K_a]:\n",
    "        control.steer = max(control.steer - 0.05, -1.0)\n",
    "    elif keys[pygame.K_RIGHT] or keys[pygame.K_d]:\n",
    "        control.steer = min(control.steer + 0.05, 1.0)\n",
    "    else:\n",
    "        control.steer = 0.0\n",
    "\n",
    "    control.hand_brake = keys[pygame.K_SPACE]\n",
    "\n",
    "    # Apply the control to the ego vehicle and tick the simulation\n",
    "    ego_vehicle.apply_control(control)\n",
    "    world.tick()\n",
    "\n",
    "    # Update the display and check for the quit event\n",
    "    pygame.display.flip()\n",
    "    pygame.display.update()\n",
    "    for event in pygame.event.get():\n",
    "        if event.type == pygame.QUIT:\n",
    "            done = True\n",
    "\n",
    "    # Sleep to ensure consistent loop timing\n",
    "    clock.tick(60)"
   ]
  },
  {
   "cell_type": "code",
   "execution_count": null,
   "id": "72327047-51b2-4719-8abf-ee08ff633bff",
   "metadata": {},
   "outputs": [],
   "source": []
  }
 ],
 "metadata": {
  "kernelspec": {
   "display_name": "Python 3 (ipykernel)",
   "language": "python",
   "name": "python3"
  },
  "language_info": {
   "codemirror_mode": {
    "name": "ipython",
    "version": 3
   },
   "file_extension": ".py",
   "mimetype": "text/x-python",
   "name": "python",
   "nbconvert_exporter": "python",
   "pygments_lexer": "ipython3",
   "version": "3.8.8rc1"
  }
 },
 "nbformat": 4,
 "nbformat_minor": 5
}
